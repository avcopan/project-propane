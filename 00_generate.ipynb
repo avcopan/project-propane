{
 "cells": [
  {
   "cell_type": "code",
   "execution_count": 1,
   "id": "e75f918a-8721-44d7-8669-ee85ab87beb4",
   "metadata": {},
   "outputs": [],
   "source": [
    "import automech"
   ]
  },
  {
   "cell_type": "code",
   "execution_count": 2,
   "id": "0075fb05-6ce2-49c0-8314-b7f204220869",
   "metadata": {},
   "outputs": [
    {
     "data": {
      "text/plain": [
       "Mechanism(\n",
       "  reactions=DataFrame(\n",
       "                                eq\n",
       "    0     C3H8 + HO = C3H7y1 + H2O\n",
       "    1  C3H8 + HO = C3H7hnual + H2O\n",
       "  ),\n",
       "  species=DataFrame(\n",
       "            name  spin  charge                             chi      smi\n",
       "    0       C3H8     0       0  AMChI=1/C3H8/c1-3-2/h3H2,1-2H3      CCC\n",
       "    1         HO     1       0                  AMChI=1/HO/h1H     [OH]\n",
       "    2     C3H7y1     1       0  AMChI=1/C3H7/c1-3-2/h1,3H2,2H3  CC[CH2]\n",
       "    3  C3H7hnual     1       0   AMChI=1/C3H7/c1-3-2/h3H,1-2H3   C[CH]C\n",
       "    4        H2O     0       0                AMChI=1/H2O/h1H2        O\n",
       "  ),\n",
       ")"
      ]
     },
     "execution_count": 2,
     "metadata": {},
     "output_type": "execute_result"
    }
   ],
   "source": [
    "mech = automech.from_smiles(\n",
    "    [\"CCC\", \"[OH]\", \"CC[CH2]\", \"C[CH]C\", \"O\"],\n",
    "    rxn_smis=[\"CCC.[OH]>>CC[CH2].O\", \"CCC.[OH]>>C[CH]C.O\"],\n",
    "    name_dct={\"CCC\": \"C3H8\", \"CC[CH2]\": \"C3H7y1\"},\n",
    ")\n",
    "# mech = automech.from_smiles([\"CCC\"], rxn_smis=[])\n",
    "mech"
   ]
  },
  {
   "cell_type": "code",
   "execution_count": 3,
   "id": "0722acda-d19a-4c0b-a793-3699e9177e4e",
   "metadata": {},
   "outputs": [
    {
     "data": {
      "application/vnd.jupyter.widget-view+json": {
       "model_id": "6d543cfde634477aa3aec49a3d0f55fe",
       "version_major": 2,
       "version_minor": 0
      },
      "text/plain": [
       "  0%|          | 0/5 [00:00<?, ?it/s]"
      ]
     },
     "metadata": {},
     "output_type": "display_data"
    },
    {
     "data": {
      "application/vnd.jupyter.widget-view+json": {
       "model_id": "3f49955d531c436f8f72ba4cb24e6928",
       "version_major": 2,
       "version_minor": 0
      },
      "text/plain": [
       "  0%|          | 0/5 [00:00<?, ?it/s]"
      ]
     },
     "metadata": {},
     "output_type": "display_data"
    },
    {
     "data": {
      "application/vnd.jupyter.widget-view+json": {
       "model_id": "54bc6484bed14c949dadde96917ea51b",
       "version_major": 2,
       "version_minor": 0
      },
      "text/plain": [
       "  0%|          | 0/5 [00:00<?, ?it/s]"
      ]
     },
     "metadata": {},
     "output_type": "display_data"
    },
    {
     "data": {
      "application/vnd.jupyter.widget-view+json": {
       "model_id": "4c3bed758ff945ac920a7bfaa8f55c5b",
       "version_major": 2,
       "version_minor": 0
      },
      "text/plain": [
       "  0%|          | 0/2 [00:00<?, ?it/s]"
      ]
     },
     "metadata": {},
     "output_type": "display_data"
    }
   ],
   "source": [
    "automech.display(mech)"
   ]
  }
 ],
 "metadata": {
  "kernelspec": {
   "display_name": "Python 3 (ipykernel)",
   "language": "python",
   "name": "python3"
  },
  "language_info": {
   "codemirror_mode": {
    "name": "ipython",
    "version": 3
   },
   "file_extension": ".py",
   "mimetype": "text/x-python",
   "name": "python",
   "nbconvert_exporter": "python",
   "pygments_lexer": "ipython3",
   "version": "3.12.4"
  }
 },
 "nbformat": 4,
 "nbformat_minor": 5
}
