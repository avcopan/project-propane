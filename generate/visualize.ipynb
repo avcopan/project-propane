{
 "cells": [
  {
   "cell_type": "code",
   "execution_count": 1,
   "id": "7f983575-8966-4843-9375-51e40dfedaf4",
   "metadata": {},
   "outputs": [],
   "source": [
    "import automech"
   ]
  },
  {
   "cell_type": "code",
   "execution_count": 2,
   "id": "6117b79f-5834-4422-b6c7-7eb6b4ae004c",
   "metadata": {},
   "outputs": [
    {
     "data": {
      "application/vnd.jupyter.widget-view+json": {
       "model_id": "bc28794bfb9b41cf8f9add102ff40780",
       "version_major": 2,
       "version_minor": 0
      },
      "text/plain": [
       "  0%|          | 0/12 [00:00<?, ?it/s]"
      ]
     },
     "metadata": {},
     "output_type": "display_data"
    },
    {
     "data": {
      "text/plain": [
       "Mechanism(\n",
       "  reactions=DataFrame(\n",
       "    shape: (8, 2)\n",
       "    ┌─────────────────────┬─────────────────────────────────┐\n",
       "    │ eq                  ┆ rate                            │\n",
       "    │ ---                 ┆ ---                             │\n",
       "    │ str                 ┆ object                          │\n",
       "    ╞═════════════════════╪═════════════════════════════════╡\n",
       "    │ C3p1 = C3e1 + HO2   ┆ SimpleRate(k=ArrheniusFunction… │\n",
       "    │ C3y1 + O2 = C3p1    ┆ SimpleRate(k=ArrheniusFunction… │\n",
       "    │ C3p1 = C3h1y3       ┆ SimpleRate(k=ArrheniusFunction… │\n",
       "    │ C3p1 = C3h1y2       ┆ SimpleRate(k=ArrheniusFunction… │\n",
       "    │ C3h1y2 = C3e1 + HO2 ┆ SimpleRate(k=ArrheniusFunction… │\n",
       "    │ C3p1 = C3h1y1       ┆ SimpleRate(k=ArrheniusFunction… │\n",
       "    │ C3h1y2 = C3e12 + HO ┆ SimpleRate(k=ArrheniusFunction… │\n",
       "    │ C3h1y3 = C3e13 + HO ┆ SimpleRate(k=ArrheniusFunction… │\n",
       "    └─────────────────────┴─────────────────────────────────┘\n",
       "  ),\n",
       "  species=DataFrame(\n",
       "    shape: (12, 8)\n",
       "    ┌────────┬──────────┬──────────────────┬──────┬────────┬──────────────────┬─────────────────┬──────┐\n",
       "    │ name   ┆ smiles   ┆ amchi            ┆ spin ┆ charge ┆ inchi            ┆ inchikey        ┆ mult │\n",
       "    │ ---    ┆ ---      ┆ ---              ┆ ---  ┆ ---    ┆ ---              ┆ ---             ┆ ---  │\n",
       "    │ str    ┆ str      ┆ str              ┆ i64  ┆ i64    ┆ str              ┆ str             ┆ i64  │\n",
       "    ╞════════╪══════════╪══════════════════╪══════╪════════╪══════════════════╪═════════════════╪══════╡\n",
       "    │ C3y1   ┆ [CH2]CC  ┆ AMChI=1/C3H7/c1- ┆ 1    ┆ 0      ┆ InChI=1S/C3H7/c1 ┆ OCBFFGCSTGGPSQ- ┆ 2    │\n",
       "    │        ┆          ┆ 3-2/h1,3H2,2H3   ┆      ┆        ┆ -3-2/h1,3H2,2H…  ┆ UHFFFAOYSA-N    ┆      │\n",
       "    │ C3p1   ┆ [O]OCCC  ┆ AMChI=1/C3H7O2/c ┆ 1    ┆ 0      ┆ InChI=1S/C3H7O2/ ┆ NALIQVLPVWZDOO- ┆ 2    │\n",
       "    │        ┆          ┆ 1-2-3-5-4/h2-3…  ┆      ┆        ┆ c1-2-3-5-4/h2-…  ┆ UHFFFAOYSA-N    ┆      │\n",
       "    │ O2     ┆ [O][O]   ┆ AMChI=1/O2/c1-2  ┆ 2    ┆ 0      ┆ InChI=1S/O2/c1-2 ┆ MYMOFIZGZYHOMD- ┆ 3    │\n",
       "    │        ┆          ┆                  ┆      ┆        ┆                  ┆ UHFFFAOYSA-N    ┆      │\n",
       "    │ C3h1y1 ┆ OO[CH]CC ┆ AMChI=1/C3H7O2/c ┆ 1    ┆ 0      ┆ InChI=1S/C3H7O2/ ┆ HFZOUZCVKAEAJW- ┆ 2    │\n",
       "    │        ┆          ┆ 1-3-2-5-4/h2,4…  ┆      ┆        ┆ c1-2-3-5-4/h3-…  ┆ UHFFFAOYSA-N    ┆      │\n",
       "    │ C3h1y2 ┆ OOC[CH]C ┆ AMChI=1/C3H7O2/c ┆ 1    ┆ 0      ┆ InChI=1S/C3H7O2/ ┆ CRNRESQDLTXDRN- ┆ 2    │\n",
       "    │        ┆          ┆ 1-2-3-5-4/h2,4…  ┆      ┆        ┆ c1-2-3-5-4/h2,…  ┆ UHFFFAOYSA-N    ┆      │\n",
       "    │ …      ┆ …        ┆ …                ┆ …    ┆ …      ┆ …                ┆ …               ┆ …    │\n",
       "    │ HO2    ┆ [O]O     ┆ AMChI=1/HO2/c1-2 ┆ 1    ┆ 0      ┆ InChI=1S/HO2/c1- ┆ OUUQCZGPVNCOIJ- ┆ 2    │\n",
       "    │        ┆          ┆ /h2H             ┆      ┆        ┆ 2/h1H            ┆ UHFFFAOYSA-N    ┆      │\n",
       "    │ HO     ┆ [OH]     ┆ AMChI=1/HO/h1H   ┆ 1    ┆ 0      ┆ InChI=1S/HO/h1H  ┆ TUJKJAMUKRIRHC- ┆ 2    │\n",
       "    │        ┆          ┆                  ┆      ┆        ┆                  ┆ UHFFFAOYSA-N    ┆      │\n",
       "    │ C3a1   ┆ O=CCC    ┆ AMChI=1/C3H6O/c1 ┆ 0    ┆ 0      ┆ InChI=1S/C3H6O/c ┆ NBBJYMSMWIIQGU- ┆ 1    │\n",
       "    │        ┆          ┆ -3-2-4/h2H,3H2…  ┆      ┆        ┆ 1-2-3-4/h3H,2H…  ┆ UHFFFAOYSA-N    ┆      │\n",
       "    │ C3e12  ┆ O1CC1C   ┆ AMChI=1/C3H6O/c1 ┆ 0    ┆ 0      ┆ InChI=1S/C3H6O/c ┆ GOOHAUXETOMSMM- ┆ 1    │\n",
       "    │        ┆          ┆ -3-2-4-3/h3H,2…  ┆      ┆        ┆ 1-3-2-4-3/h3H,…  ┆ UHFFFAOYSA-N    ┆      │\n",
       "    │ C3e13  ┆ O1CCC1   ┆ AMChI=1/C3H6O/c1 ┆ 0    ┆ 0      ┆ InChI=1S/C3H6O/c ┆ AHHWIHXENZJRFG- ┆ 1    │\n",
       "    │        ┆          ┆ -2-4-3-1/h1-3H…  ┆      ┆        ┆ 1-2-4-3-1/h1-3…  ┆ UHFFFAOYSA-N    ┆      │\n",
       "    └────────┴──────────┴──────────────────┴──────┴────────┴──────────────────┴─────────────────┴──────┘\n",
       "  ),\n",
       ")"
      ]
     },
     "execution_count": 2,
     "metadata": {},
     "output_type": "execute_result"
    }
   ],
   "source": [
    "id = \"05\"\n",
    "\n",
    "mech = automech.io.mechanalyzer.read.mechanism(\n",
    "    inp=f\"mechanism{id}.dat\",\n",
    "    spc_inp=f\"species{id}.csv\",\n",
    ")\n",
    "mech"
   ]
  },
  {
   "cell_type": "code",
   "execution_count": 3,
   "id": "ec922c70",
   "metadata": {},
   "outputs": [
    {
     "data": {
      "application/vnd.jupyter.widget-view+json": {
       "model_id": "af0e0d9eafc949edb9749116817c7945",
       "version_major": 2,
       "version_minor": 0
      },
      "text/plain": [
       "  0%|          | 0/12 [00:00<?, ?it/s]"
      ]
     },
     "metadata": {},
     "output_type": "display_data"
    },
    {
     "data": {
      "application/vnd.jupyter.widget-view+json": {
       "model_id": "b89c13d248a74d90905fe7ff3542b5d3",
       "version_major": 2,
       "version_minor": 0
      },
      "text/plain": [
       "  0%|          | 0/12 [00:00<?, ?it/s]"
      ]
     },
     "metadata": {},
     "output_type": "display_data"
    },
    {
     "data": {
      "application/vnd.jupyter.widget-view+json": {
       "model_id": "c409c9af12b14c1c837ec696fe0d2442",
       "version_major": 2,
       "version_minor": 0
      },
      "text/plain": [
       "  0%|          | 0/12 [00:00<?, ?it/s]"
      ]
     },
     "metadata": {},
     "output_type": "display_data"
    },
    {
     "data": {
      "application/vnd.jupyter.widget-view+json": {
       "model_id": "a67b8f325a724a77b45ea5477717f284",
       "version_major": 2,
       "version_minor": 0
      },
      "text/plain": [
       "  0%|          | 0/8 [00:00<?, ?it/s]"
      ]
     },
     "metadata": {},
     "output_type": "display_data"
    }
   ],
   "source": [
    "automech.display(mech)"
   ]
  }
 ],
 "metadata": {
  "kernelspec": {
   "display_name": "Python 3 (ipykernel)",
   "language": "python",
   "name": "python3"
  },
  "language_info": {
   "codemirror_mode": {
    "name": "ipython",
    "version": 3
   },
   "file_extension": ".py",
   "mimetype": "text/x-python",
   "name": "python",
   "nbconvert_exporter": "python",
   "pygments_lexer": "ipython3",
   "version": "3.12.4"
  }
 },
 "nbformat": 4,
 "nbformat_minor": 5
}
