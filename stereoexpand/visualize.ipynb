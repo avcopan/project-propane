{
 "cells": [
  {
   "cell_type": "code",
   "execution_count": 1,
   "id": "7f983575-8966-4843-9375-51e40dfedaf4",
   "metadata": {},
   "outputs": [],
   "source": [
    "import automech"
   ]
  },
  {
   "cell_type": "code",
   "execution_count": 2,
   "id": "6117b79f-5834-4422-b6c7-7eb6b4ae004c",
   "metadata": {},
   "outputs": [
    {
     "data": {
      "application/vnd.jupyter.widget-view+json": {
       "model_id": "52fd828cfecf40b09fd6e8af404a6789",
       "version_major": 2,
       "version_minor": 0
      },
      "text/plain": [
       "  0%|          | 0/11 [00:00<?, ?it/s]"
      ]
     },
     "metadata": {},
     "output_type": "display_data"
    },
    {
     "data": {
      "text/plain": [
       "Mechanism(\n",
       "  reactions=DataFrame(\n",
       "    shape: (8, 2)\n",
       "    ┌───────────────────────┬─────────────────────────────────┐\n",
       "    │ eq                    ┆ rate                            │\n",
       "    │ ---                   ┆ ---                             │\n",
       "    │ str                   ┆ object                          │\n",
       "    ╞═══════════════════════╪═════════════════════════════════╡\n",
       "    │ C3y1 + O2 = C3p1      ┆ SimpleRate(k=ArrheniusFunction… │\n",
       "    │ C3p1 = C3h1y3         ┆ SimpleRate(k=ArrheniusFunction… │\n",
       "    │ C3p1 = C3h1y2         ┆ SimpleRate(k=ArrheniusFunction… │\n",
       "    │ C3p1 = C3h1y1         ┆ SimpleRate(k=ArrheniusFunction… │\n",
       "    │ C3p1 = C3e1 + HO2     ┆ SimpleRate(k=ArrheniusFunction… │\n",
       "    │ C3h1y3 = C3e13 + HO   ┆ SimpleRate(k=ArrheniusFunction… │\n",
       "    │ C3h1y2 = C3e12-0 + HO ┆ SimpleRate(k=ArrheniusFunction… │\n",
       "    │ C3h1y2 = C3e1 + HO2   ┆ SimpleRate(k=ArrheniusFunction… │\n",
       "    └───────────────────────┴─────────────────────────────────┘\n",
       "  ),\n",
       "  species=DataFrame(\n",
       "    shape: (11, 9)\n",
       "    ┌─────────┬────────────┬──────────────┬──────┬───┬──────────────┬─────────────┬──────┬─────────────┐\n",
       "    │ name    ┆ smiles     ┆ amchi        ┆ spin ┆ … ┆ inchi        ┆ inchikey    ┆ mult ┆ canon_enant │\n",
       "    │ ---     ┆ ---        ┆ ---          ┆ ---  ┆   ┆ ---          ┆ ---         ┆ ---  ┆ _ich        │\n",
       "    │ str     ┆ str        ┆ str          ┆ i64  ┆   ┆ str          ┆ str         ┆ i64  ┆ ---         │\n",
       "    │         ┆            ┆              ┆      ┆   ┆              ┆             ┆      ┆ str         │\n",
       "    ╞═════════╪════════════╪══════════════╪══════╪═══╪══════════════╪═════════════╪══════╪═════════════╡\n",
       "    │ O2      ┆ O=O        ┆ AMChI=1/O2/c ┆ 0    ┆ … ┆ InChI=1S/O2/ ┆ MYMOFIZGZYH ┆ 1    ┆ InChI=1S/O2 │\n",
       "    │         ┆            ┆ 1-2          ┆      ┆   ┆ c1-2         ┆ OMD-UHFFFAO ┆      ┆ /c1-2       │\n",
       "    │         ┆            ┆              ┆      ┆   ┆              ┆ YSA-N       ┆      ┆             │\n",
       "    │ HO      ┆ [OH]       ┆ AMChI=1/HO/h ┆ 1    ┆ … ┆ InChI=1S/HO/ ┆ TUJKJAMUKRI ┆ 2    ┆ InChI=1S/HO │\n",
       "    │         ┆            ┆ 1H           ┆      ┆   ┆ h1H          ┆ RHC-UHFFFAO ┆      ┆ /h1H        │\n",
       "    │         ┆            ┆              ┆      ┆   ┆              ┆ YSA-N       ┆      ┆             │\n",
       "    │ HO2     ┆ O[O]       ┆ AMChI=1/HO2/ ┆ 1    ┆ … ┆ InChI=1S/HO2 ┆ OUUQCZGPVNC ┆ 2    ┆ InChI=1S/HO │\n",
       "    │         ┆            ┆ c1-2/h2H     ┆      ┆   ┆ /c1-2/h1H    ┆ OIJ-UHFFFAO ┆      ┆ 2/c1-2/h1H  │\n",
       "    │         ┆            ┆              ┆      ┆   ┆              ┆ YSA-N       ┆      ┆             │\n",
       "    │ C3e1    ┆ C=CC       ┆ AMChI=1/C3H6 ┆ 0    ┆ … ┆ InChI=1S/C3H ┆ QQONPFPTGQH ┆ 1    ┆ InChI=1S/C3 │\n",
       "    │         ┆            ┆ /c1-3-2/h3H, ┆      ┆   ┆ 6/c1-3-2/h3H ┆ PMA-UHFFFAO ┆      ┆ H6/c1-3-2/h │\n",
       "    │         ┆            ┆ 1H2,2H…      ┆      ┆   ┆ ,1H2,2…      ┆ YSA-N       ┆      ┆ 3H,1H2,2…   │\n",
       "    │ C3y1    ┆ [CH2]CC    ┆ AMChI=1/C3H7 ┆ 1    ┆ … ┆ InChI=1S/C3H ┆ OCBFFGCSTGG ┆ 2    ┆ InChI=1S/C3 │\n",
       "    │         ┆            ┆ /c1-3-2/h1,3 ┆      ┆   ┆ 7/c1-3-2/h1, ┆ PSQ-UHFFFAO ┆      ┆ H7/c1-3-2/h │\n",
       "    │         ┆            ┆ H2,2H3       ┆      ┆   ┆ 3H2,2H…      ┆ YSA-N       ┆      ┆ 1,3H2,2H…   │\n",
       "    │ …       ┆ …          ┆ …            ┆ …    ┆ … ┆ …            ┆ …           ┆ …    ┆ …           │\n",
       "    │ C3e12-0 ┆ C[C@H]1CO1 ┆ AMChI=1/C3H6 ┆ 0    ┆ … ┆ InChI=1S/C3H ┆ GOOHAUXETOM ┆ 1    ┆ InChI=1S/C3 │\n",
       "    │         ┆            ┆ O/c1-3-2-4-3 ┆      ┆   ┆ 6O/c1-3-2-4- ┆ SMM-VKHMYHE ┆      ┆ H6O/c1-3-2- │\n",
       "    │         ┆            ┆ /h3H,2…      ┆      ┆   ┆ 3/h3H,…      ┆ ASA-N       ┆      ┆ 4-3/h3H,…   │\n",
       "    │ C3p1    ┆ CCCO[O]    ┆ AMChI=1/C3H7 ┆ 1    ┆ … ┆ InChI=1S/C3H ┆ NALIQVLPVWZ ┆ 2    ┆ InChI=1S/C3 │\n",
       "    │         ┆            ┆ O2/c1-2-3-5- ┆      ┆   ┆ 7O2/c1-2-3-5 ┆ DOO-UHFFFAO ┆      ┆ H7O2/c1-2-3 │\n",
       "    │         ┆            ┆ 4/h2-3…      ┆      ┆   ┆ -4/h2-…      ┆ YSA-N       ┆      ┆ -5-4/h2-…   │\n",
       "    │ C3h1y2  ┆ C[CH]COO   ┆ AMChI=1/C3H7 ┆ 1    ┆ … ┆ InChI=1S/C3H ┆ CRNRESQDLTX ┆ 2    ┆ InChI=1S/C3 │\n",
       "    │         ┆            ┆ O2/c1-2-3-5- ┆      ┆   ┆ 7O2/c1-2-3-5 ┆ DRN-UHFFFAO ┆      ┆ H7O2/c1-2-3 │\n",
       "    │         ┆            ┆ 4/h2,4…      ┆      ┆   ┆ -4/h2,…      ┆ YSA-N       ┆      ┆ -5-4/h2,…   │\n",
       "    │ C3h1y3  ┆ [CH2]CCOO  ┆ AMChI=1/C3H7 ┆ 1    ┆ … ┆ InChI=1S/C3H ┆ JNOGEOUZRSV ┆ 2    ┆ InChI=1S/C3 │\n",
       "    │         ┆            ┆ O2/c1-2-3-5- ┆      ┆   ┆ 7O2/c1-2-3-5 ┆ BBS-UHFFFAO ┆      ┆ H7O2/c1-2-3 │\n",
       "    │         ┆            ┆ 4/h4H,…      ┆      ┆   ┆ -4/h4H…      ┆ YSA-N       ┆      ┆ -5-4/h4H…   │\n",
       "    │ C3h1y1  ┆ CC[CH]OO   ┆ AMChI=1/C3H7 ┆ 1    ┆ … ┆ InChI=1S/C3H ┆ HFZOUZCVKAE ┆ 2    ┆ InChI=1S/C3 │\n",
       "    │         ┆            ┆ O2/c1-3-2-5- ┆      ┆   ┆ 7O2/c1-2-3-5 ┆ AJW-UHFFFAO ┆      ┆ H7O2/c1-2-3 │\n",
       "    │         ┆            ┆ 4/h2,4…      ┆      ┆   ┆ -4/h3-…      ┆ YSA-N       ┆      ┆ -5-4/h3-…   │\n",
       "    └─────────┴────────────┴──────────────┴──────┴───┴──────────────┴─────────────┴──────┴─────────────┘\n",
       "  ),\n",
       ")"
      ]
     },
     "execution_count": 2,
     "metadata": {},
     "output_type": "execute_result"
    }
   ],
   "source": [
    "mech = automech.io.mechanalyzer.read.mechanism(\n",
    "    inp=\"propyl.dat\",\n",
    "    spc_inp=\"propyl_species.csv\",\n",
    ")\n",
    "mech"
   ]
  },
  {
   "cell_type": "code",
   "execution_count": 3,
   "id": "ec922c70",
   "metadata": {},
   "outputs": [
    {
     "data": {
      "application/vnd.jupyter.widget-view+json": {
       "model_id": "296f32a8571a4ea3bc9d9ee2c88d1eff",
       "version_major": 2,
       "version_minor": 0
      },
      "text/plain": [
       "  0%|          | 0/11 [00:00<?, ?it/s]"
      ]
     },
     "metadata": {},
     "output_type": "display_data"
    },
    {
     "data": {
      "application/vnd.jupyter.widget-view+json": {
       "model_id": "78733f5895814ff891f68063cb48d38c",
       "version_major": 2,
       "version_minor": 0
      },
      "text/plain": [
       "  0%|          | 0/11 [00:00<?, ?it/s]"
      ]
     },
     "metadata": {},
     "output_type": "display_data"
    },
    {
     "data": {
      "application/vnd.jupyter.widget-view+json": {
       "model_id": "76ec76dcf0724d6b8f8b8f3f035870c6",
       "version_major": 2,
       "version_minor": 0
      },
      "text/plain": [
       "  0%|          | 0/11 [00:00<?, ?it/s]"
      ]
     },
     "metadata": {},
     "output_type": "display_data"
    },
    {
     "data": {
      "application/vnd.jupyter.widget-view+json": {
       "model_id": "9c59e26550954aed9ecaa4b6ef64233a",
       "version_major": 2,
       "version_minor": 0
      },
      "text/plain": [
       "  0%|          | 0/8 [00:00<?, ?it/s]"
      ]
     },
     "metadata": {},
     "output_type": "display_data"
    }
   ],
   "source": [
    "automech.display(mech)"
   ]
  }
 ],
 "metadata": {
  "kernelspec": {
   "display_name": "Python 3 (ipykernel)",
   "language": "python",
   "name": "python3"
  },
  "language_info": {
   "codemirror_mode": {
    "name": "ipython",
    "version": 3
   },
   "file_extension": ".py",
   "mimetype": "text/x-python",
   "name": "python",
   "nbconvert_exporter": "python",
   "pygments_lexer": "ipython3",
   "version": "3.12.4"
  }
 },
 "nbformat": 4,
 "nbformat_minor": 5
}
